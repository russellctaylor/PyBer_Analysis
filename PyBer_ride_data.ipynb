{
 "cells": [
  {
   "cell_type": "code",
   "execution_count": null,
   "id": "2cf190b9",
   "metadata": {},
   "outputs": [],
   "source": [
    "%matplotlib inline\n",
    "# Dependencies\n",
    "import matplotlib.pyplot as plt\n",
    "import numpy as np\n",
    "import pandas as pd\n",
    "\n",
    "\n",
    "# Load in csv\n",
    "pyber_ride_df = pd.read_csv(\"Resources/PyBer_ride_data.csv\")\n",
    "pyber_ride_df"
   ]
  },
  {
   "cell_type": "code",
   "execution_count": null,
   "id": "1ae41266",
   "metadata": {},
   "outputs": [],
   "source": [
    "pyber_ride_df.plot(x=\"Month\", y=\"Avg. Fare ($USD)\")\n",
    "plt.show()"
   ]
  },
  {
   "cell_type": "code",
   "execution_count": null,
   "id": "00e3498f",
   "metadata": {},
   "outputs": [],
   "source": [
    "# Set x-axis and tick locations.\n",
    "x_axis = np.arange(len(pyber_ride_df))\n",
    "tick_locations = [value for value in x_axis]\n",
    "# Plot the data.\n",
    "pyber_ride_df.plot(x=\"Month\", y=\"Avg. Fare ($USD)\")\n",
    "plt.xticks(tick_locations, pyber_ride_df[\"Month\"])\n",
    "plt.show()"
   ]
  },
  {
   "cell_type": "code",
   "execution_count": null,
   "id": "d8b1f5b8",
   "metadata": {},
   "outputs": [],
   "source": [
    "pyber_ride_df.plot.bar(x=\"Month\", y=\"Avg. Fare ($USD)\")\n",
    "plt.show()"
   ]
  },
  {
   "cell_type": "code",
   "execution_count": null,
   "id": "454fd6d6",
   "metadata": {
    "scrolled": false
   },
   "outputs": [],
   "source": [
    "pyber_ride_df.plot(x=\"Month\", y=\"Avg. Fare ($USD)\", kind='bar')\n",
    "plt.show()"
   ]
  },
  {
   "cell_type": "code",
   "execution_count": null,
   "id": "6616b82f",
   "metadata": {},
   "outputs": [],
   "source": []
  },
  {
   "cell_type": "code",
   "execution_count": 8,
   "id": "3a75d68e",
   "metadata": {},
   "outputs": [
    {
     "name": "stdout",
     "output_type": "stream",
     "text": [
      "0     10.02\n",
      "1     23.24\n",
      "2     39.20\n",
      "3     35.42\n",
      "4     32.34\n",
      "5     27.04\n",
      "6     43.82\n",
      "7     10.56\n",
      "8     11.85\n",
      "9     27.90\n",
      "10    20.71\n",
      "11    20.09\n",
      "Name: Avg. Fare ($USD), dtype: float64\n",
      "0       Jan\n",
      "1       Feb\n",
      "2       Mar\n",
      "3     April\n",
      "4       May\n",
      "5      June\n",
      "6      July\n",
      "7       Aug\n",
      "8      Sept\n",
      "9       Oct\n",
      "10      Nov\n",
      "11      Dec\n",
      "Name: Month, dtype: object\n",
      "<class 'float'>\n",
      "11.208367917035753\n"
     ]
    },
    {
     "data": {
      "image/png": "[encoded data removed]",
      "text/plain": [
       "<Figure size 432x288 with 1 Axes>"
      ]
     },
     "metadata": {
      "needs_background": "light"
     },
     "output_type": "display_data"
    }
   ],
   "source": [
    "#skill drill\n",
    "\n",
    "%matplotlib inline\n",
    "# Dependencies\n",
    "import matplotlib.pyplot as plt\n",
    "import numpy as np\n",
    "import pandas as pd\n",
    "\n",
    "import statistics\n",
    "\n",
    "# Load in csv\n",
    "pyber_ride_df = pd.read_csv(\"Resources/PyBer_ride_data.csv\")\n",
    "pyber_ride_df\n",
    "x_axis = pyber_ride_df.iloc[:,1]\n",
    "y_axis = pyber_ride_df.iloc[:,0]\n",
    "\n",
    "stdev = statistics.stdev(x_axis)\n",
    "\n",
    "print(x_axis)\n",
    "print(y_axis)\n",
    "\n",
    "print(type(stdev))\n",
    "print(stdev)\n",
    "\n",
    "\n",
    "plt.bar(y_axis, x_axis, yerr=stdev, capsize=3, label = \"Avg. Fare ($USD)\")\n",
    "\n",
    "plt.xlabel(\"Date\")\n",
    "plt.ylabel(\"Fare($)\")\n",
    "plt.title(\"PyBer Fare by Month\")\n",
    "plt.legend()\n",
    "plt.show()\n"
   ]
  },
  {
   "cell_type": "code",
   "execution_count": null,
   "id": "7d867ba8",
   "metadata": {},
   "outputs": [],
   "source": []
  },
  {
   "cell_type": "code",
   "execution_count": null,
   "id": "639a61b4",
   "metadata": {},
   "outputs": [],
   "source": []
  }
 ],
 "metadata": {
  "kernelspec": {
   "display_name": "Python 3 (ipykernel)",
   "language": "python",
   "name": "python3"
  },
  "language_info": {
   "codemirror_mode": {
    "name": "ipython",
    "version": 3
   },
   "file_extension": ".py",
   "mimetype": "text/x-python",
   "name": "python",
   "nbconvert_exporter": "python",
   "pygments_lexer": "ipython3",
   "version": "3.7.11"
  }
 },
 "nbformat": 4,
 "nbformat_minor": 5
}
